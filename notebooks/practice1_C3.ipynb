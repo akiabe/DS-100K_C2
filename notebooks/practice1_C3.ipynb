{
 "cells": [
  {
   "cell_type": "code",
   "execution_count": null,
   "outputs": [],
   "source": [
    "import warnings\n",
    "warnings.filterwarnings(\"ignore\")\n",
    "\n",
    "import pandas as pd"
   ],
   "metadata": {
    "collapsed": false,
    "pycharm": {
     "name": "#%%\n"
    }
   }
  },
  {
   "cell_type": "code",
   "execution_count": null,
   "outputs": [],
   "source": [
    "use_log = pd.read_csv(\"../input/use_log.csv\")\n",
    "customer_master = pd.read_csv(\"../input/customer_master.csv\")\n",
    "class_master = pd.read_csv(\"../input/class_master.csv\")\n",
    "campaign_master = pd.read_csv(\"../input/campaign_master.csv\")"
   ],
   "metadata": {
    "collapsed": false,
    "pycharm": {
     "name": "#%%\n"
    }
   }
  },
  {
   "cell_type": "code",
   "execution_count": null,
   "outputs": [],
   "source": [
    "use_log.head(3)"
   ],
   "metadata": {
    "collapsed": false,
    "pycharm": {
     "name": "#%%\n"
    }
   }
  },
  {
   "cell_type": "code",
   "execution_count": null,
   "outputs": [],
   "source": [
    "customer_master.head(3)"
   ],
   "metadata": {
    "collapsed": false,
    "pycharm": {
     "name": "#%%\n"
    }
   }
  },
  {
   "cell_type": "code",
   "execution_count": null,
   "outputs": [],
   "source": [
    "class_master.head(3)"
   ],
   "metadata": {
    "collapsed": false,
    "pycharm": {
     "name": "#%%\n"
    }
   }
  },
  {
   "cell_type": "code",
   "execution_count": null,
   "outputs": [],
   "source": [
    "campaign_master.head(3)"
   ],
   "metadata": {
    "collapsed": false,
    "pycharm": {
     "name": "#%%\n"
    }
   }
  },
  {
   "cell_type": "code",
   "execution_count": null,
   "outputs": [],
   "source": [
    "customer_join = pd.merge(\n",
    "    customer_master, \n",
    "    class_master,\n",
    "    on=\"class\",\n",
    "    how=\"left\",\n",
    ")\n",
    "\n",
    "customer_join.head(3)"
   ],
   "metadata": {
    "collapsed": false,
    "pycharm": {
     "name": "#%%\n"
    }
   }
  },
  {
   "cell_type": "code",
   "execution_count": null,
   "outputs": [],
   "source": [
    "customer_join = pd.merge(\n",
    "    customer_join,\n",
    "    campaign_master,\n",
    "    on=\"campaign_id\",\n",
    "    how=\"left\",\n",
    ")\n",
    "\n",
    "customer_join.head(3)"
   ],
   "metadata": {
    "collapsed": false,
    "pycharm": {
     "name": "#%%\n"
    }
   }
  },
  {
   "cell_type": "code",
   "execution_count": null,
   "outputs": [],
   "source": [
    "customer_join.isnull().sum()"
   ],
   "metadata": {
    "collapsed": false,
    "pycharm": {
     "name": "#%%\n"
    }
   }
  },
  {
   "cell_type": "code",
   "execution_count": null,
   "outputs": [],
   "source": [
    "pd.pivot_table(\n",
    "    data=customer_join,\n",
    "    index=\"class_name\",\n",
    "    aggfunc=\"size\",\n",
    ")"
   ],
   "metadata": {
    "collapsed": false,
    "pycharm": {
     "name": "#%%\n"
    }
   }
  },
  {
   "cell_type": "code",
   "execution_count": null,
   "outputs": [],
   "source": [
    "pd.pivot_table(\n",
    "    data=customer_join,\n",
    "    index=\"campaign_name\",\n",
    "    aggfunc=\"size\",\n",
    ")"
   ],
   "metadata": {
    "collapsed": false,
    "pycharm": {
     "name": "#%%\n"
    }
   }
  },
  {
   "cell_type": "code",
   "execution_count": null,
   "outputs": [],
   "source": [
    "pd.pivot_table(\n",
    "    data=customer_join,\n",
    "    index=\"is_deleted\",\n",
    "    aggfunc=\"size\",\n",
    ")"
   ],
   "metadata": {
    "collapsed": false,
    "pycharm": {
     "name": "#%%\n"
    }
   }
  },
  {
   "cell_type": "code",
   "execution_count": null,
   "outputs": [],
   "source": [
    "customer_join[\"end_date\"] = pd.to_datetime(customer_join[\"end_date\"])\n",
    "customer_new = customer_join.loc[\n",
    "    (customer_join[\"end_date\"] >= pd.to_datetime(\"20190331\")) |\n",
    "    (customer_join[\"end_date\"].isna())\n",
    "]"
   ],
   "metadata": {
    "collapsed": false,
    "pycharm": {
     "name": "#%%\n"
    }
   }
  },
  {
   "cell_type": "code",
   "execution_count": null,
   "outputs": [],
   "source": [
    "pd.pivot_table(\n",
    "    data=customer_new,\n",
    "    index=\"class_name\",\n",
    "    aggfunc=\"size\",\n",
    ")"
   ],
   "metadata": {
    "collapsed": false,
    "pycharm": {
     "name": "#%%\n"
    }
   }
  },
  {
   "cell_type": "code",
   "execution_count": null,
   "outputs": [],
   "source": [
    "pd.pivot_table(\n",
    "    data=customer_new,\n",
    "    index=\"campaign_name\",\n",
    "    aggfunc=\"size\",\n",
    ")"
   ],
   "metadata": {
    "collapsed": false,
    "pycharm": {
     "name": "#%%\n"
    }
   }
  },
  {
   "cell_type": "code",
   "execution_count": null,
   "outputs": [],
   "source": [
    "pd.pivot_table(\n",
    "    data=customer_new,\n",
    "    index=\"is_deleted\",\n",
    "    aggfunc=\"size\",\n",
    ")"
   ],
   "metadata": {
    "collapsed": false,
    "pycharm": {
     "name": "#%%\n"
    }
   }
  },
  {
   "cell_type": "code",
   "execution_count": null,
   "outputs": [],
   "source": [
    "use_log[\"usedate\"] = pd.to_datetime(use_log[\"usedate\"])\n",
    "use_log[\"usemonth\"] = use_log[\"usedate\"].dt.strftime(\"%Y%m\")\n",
    "use_log.head(3)"
   ],
   "metadata": {
    "collapsed": false,
    "pycharm": {
     "name": "#%%\n"
    }
   }
  },
  {
   "cell_type": "code",
   "execution_count": null,
   "outputs": [],
   "source": [
    "use_log_months = use_log.groupby([\"usemonth\", \"customer_id\"], as_index=False).count()\n",
    "use_log_months.rename(columns={\"log_id\": \"count\"}, inplace=True)\n",
    "del use_log_months[\"usedate\"]\n",
    "use_log_months.head(3)"
   ],
   "metadata": {
    "collapsed": false,
    "pycharm": {
     "name": "#%%\n"
    }
   }
  },
  {
   "cell_type": "code",
   "execution_count": null,
   "outputs": [],
   "source": [
    "use_log_customer = use_log_months.groupby(\"customer_id\").agg([\"mean\", \"median\", \"max\", \"min\"])[\"count\"]\n",
    "use_log_customer = use_log_customer.reset_index(drop=False)\n",
    "use_log_customer.head(3)"
   ],
   "metadata": {
    "collapsed": false,
    "pycharm": {
     "name": "#%%\n"
    }
   }
  },
  {
   "cell_type": "code",
   "execution_count": null,
   "outputs": [],
   "source": [
    "use_log[\"weekday\"] = use_log[\"usedate\"].dt.weekday\n",
    "use_log_weekday = use_log.groupby([\"customer_id\", \"usemonth\", \"weekday\"], as_index=False).count()[[\"customer_id\", \"usemonth\", \"weekday\", \"log_id\"]]\n",
    "use_log_weekday.rename(columns={\"log_id\": \"count\"}, inplace=True)\n",
    "use_log_weekday.head(3)"
   ],
   "metadata": {
    "collapsed": false,
    "pycharm": {
     "name": "#%%\n"
    }
   }
  },
  {
   "cell_type": "code",
   "execution_count": null,
   "outputs": [],
   "source": [
    "use_log_weekday = use_log_weekday.groupby(\"customer_id\", as_index=False).max()[[\"customer_id\", \"count\"]]\n",
    "\n",
    "use_log_weekday[\"routine_flag\"] = 0\n",
    "use_log_weekday[\"routine_flag\"] = use_log_weekday[\"routine_flag\"].where(use_log_weekday[\"count\"] < 4, 1)\n",
    "use_log_weekday.head(3)"
   ],
   "metadata": {
    "collapsed": false,
    "pycharm": {
     "name": "#%%\n"
    }
   }
  },
  {
   "cell_type": "code",
   "execution_count": null,
   "outputs": [],
   "source": [
    "customer_all = pd.merge( \n",
    "    customer_join,\n",
    "    use_log_customer,\n",
    "    on=\"customer_id\",\n",
    "    how=\"left\",\n",
    ")\n",
    "\n",
    "customer_all = pd.merge( \n",
    "    customer_all,\n",
    "    use_log_weekday,\n",
    "    on=\"customer_id\",\n",
    "    how=\"left\",\n",
    ")\n",
    "\n",
    "\n",
    "customer_all.head(3)"
   ],
   "metadata": {
    "collapsed": false,
    "pycharm": {
     "name": "#%%\n"
    }
   }
  },
  {
   "cell_type": "code",
   "execution_count": null,
   "outputs": [],
   "source": [
    "customer_all[\"end_date\"] = customer_all[\"end_date\"].fillna(\"20190430\")\n",
    "customer_all[\"end_date\"] = pd.to_datetime(customer_all[\"end_date\"])\n",
    "\n",
    "customer_all[\"start_date\"] = pd.to_datetime(customer_all[\"start_date\"])\n",
    "customer_all[\"start_date\"] = customer_all[\"start_date\"].dt.strftime(\"%Y%m%d\")\n",
    "customer_all[\"start_date\"] = pd.to_datetime(customer_all[\"start_date\"])\n",
    "\n",
    "customer_all.head(3)"
   ],
   "metadata": {
    "collapsed": false,
    "pycharm": {
     "name": "#%%\n"
    }
   }
  },
  {
   "cell_type": "code",
   "execution_count": null,
   "outputs": [],
   "source": [
    "customer_all.dtypes"
   ],
   "metadata": {
    "collapsed": false,
    "pycharm": {
     "name": "#%%\n"
    }
   }
  },
  {
   "cell_type": "code",
   "execution_count": null,
   "outputs": [],
   "source": [
    "customer_all[\"membership_period\"] = customer_all[\"end_date\"] - customer_all[\"start_date\"]\n",
    "customer_all.head(3)"
   ],
   "metadata": {
    "collapsed": false,
    "pycharm": {
     "name": "#%%\n"
    }
   }
  },
  {
   "cell_type": "code",
   "execution_count": null,
   "outputs": [],
   "source": [
    "import datetime\n",
    "\n",
    "customer_all[\"membership_preriod_int\"] = customer_all[\"membership_period\"] / datetime.timedelta(days=1)\n",
    "customer_all.head(3)"
   ],
   "metadata": {
    "collapsed": false,
    "pycharm": {
     "name": "#%%\n"
    }
   }
  },
  {
   "cell_type": "code",
   "execution_count": null,
   "outputs": [],
   "source": [
    "pd.pivot_table(\n",
    "    data=customer_all,\n",
    "    index=\"routine_flag\",\n",
    "    aggfunc=\"size\",\n",
    ")"
   ],
   "metadata": {
    "collapsed": false,
    "pycharm": {
     "name": "#%%\n"
    }
   }
  },
  {
   "cell_type": "code",
   "execution_count": null,
   "outputs": [],
   "source": [
    "import seaborn as sns\n",
    "\n",
    "sns.distplot(customer_all[\"membership_preriod_int\"])"
   ],
   "metadata": {
    "collapsed": false,
    "pycharm": {
     "name": "#%%\n"
    }
   }
  },
  {
   "cell_type": "code",
   "execution_count": null,
   "outputs": [],
   "source": [],
   "metadata": {
    "collapsed": false,
    "pycharm": {
     "name": "#%%\n"
    }
   }
  },
  {
   "cell_type": "code",
   "execution_count": null,
   "outputs": [],
   "source": [],
   "metadata": {
    "collapsed": false,
    "pycharm": {
     "name": "#%%\n"
    }
   }
  },
  {
   "cell_type": "code",
   "execution_count": null,
   "outputs": [],
   "source": [],
   "metadata": {
    "collapsed": false,
    "pycharm": {
     "name": "#%%\n"
    }
   }
  },
  {
   "cell_type": "code",
   "execution_count": null,
   "outputs": [],
   "source": [],
   "metadata": {
    "collapsed": false,
    "pycharm": {
     "name": "#%%\n"
    }
   }
  },
  {
   "cell_type": "code",
   "execution_count": null,
   "outputs": [],
   "source": [],
   "metadata": {
    "collapsed": false,
    "pycharm": {
     "name": "#%%\n"
    }
   }
  }
 ],
 "metadata": {
  "kernelspec": {
   "display_name": "Python 3",
   "language": "python",
   "name": "python3"
  },
  "language_info": {
   "codemirror_mode": {
    "name": "ipython",
    "version": 3
   },
   "file_extension": ".py",
   "mimetype": "text/x-python",
   "name": "python",
   "nbconvert_exporter": "python",
   "pygments_lexer": "ipython3",
   "version": "3.8.3"
  }
 },
 "nbformat": 4,
 "nbformat_minor": 1
}